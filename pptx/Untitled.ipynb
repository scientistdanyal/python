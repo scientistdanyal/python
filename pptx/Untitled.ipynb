{
 "cells": [
  {
   "cell_type": "code",
   "execution_count": 7,
   "id": "bc1435a4",
   "metadata": {},
   "outputs": [
    {
     "name": "stdout",
     "output_type": "stream",
     "text": [
      "Requirement already satisfied: aspose.slides in c:\\users\\numl-\\anaconda3\\lib\\site-packages (23.8.0)\n"
     ]
    }
   ],
   "source": [
    "!pip install aspose.slides"
   ]
  },
  {
   "cell_type": "code",
   "execution_count": null,
   "id": "e51ba18e",
   "metadata": {},
   "outputs": [],
   "source": []
  },
  {
   "cell_type": "code",
   "execution_count": 10,
   "id": "6170e32f",
   "metadata": {
    "scrolled": true
   },
   "outputs": [],
   "source": []
  },
  {
   "cell_type": "code",
   "execution_count": 12,
   "id": "d96ce489",
   "metadata": {},
   "outputs": [],
   "source": [
    "#chart with pptx\n",
    "\n",
    "\n",
    "import collections.abc \n",
    "from pptx import Presentation\n",
    "from pptx.chart.data import CategoryChartData\n",
    "from pptx.enum.chart import XL_CHART_TYPE\n",
    "from pptx.util import Inches\n",
    "\n",
    "\n",
    "# My YouTube data from project\n",
    "views = [14675, 2616, 1859, 1627, 1533]\n",
    "comments = [26, 13, 5, 10, 7]\n",
    "likes = [406, 120, 69, 75, 68]\n",
    "video_title = ['Awesome Python Tkinter GUI drag & drop builder! Pygubu', 'Nice looking Python Tkinter GUI! Yes, really -  With Custom Tkinter', 'Pandas DataFrame in Tkinter Python GUI. -- Pandastalr Rounded button! Yes. Cuble --', 'Python GUI Tkinter Rounded button! Yes. Custom Tkinter module.', 'Table widget for Tnkinter Python GUI ! - - TkinterTable - -']\n",
    "\n",
    "# Create presentation\n",
    "prs = Presentation()\n",
    "\n",
    " # define slidelayouts \n",
    "slide = prs.slides.add_slide(prs.slide_layouts[0])\n",
    "slide1 = prs.slides.add_slide(prs.slide_layouts[6])\n",
    "slide2 = prs.slides.add_slide(prs.slide_layouts[6])\n",
    "slide3 = prs.slides.add_slide(prs.slide_layouts[6])\n",
    "slide4 = prs.slides.add_slide(prs.slide_layouts[0])\n",
    "\n",
    "# title slide\n",
    "title = slide.shapes.title\n",
    "subtitle = slide.placeholders[1]\n",
    "title.text = \"Coding Zoe YouTube Analytics Report\"\n",
    "subtitle.text = \"8th April, 2022\"\n",
    "\n",
    "# views chart\n",
    "chart_data = CategoryChartData()\n",
    "chart_data.categories = video_title\n",
    "chart_data.add_series('Video Views', (views))\n",
    "x, y, cx, cy = Inches(.5), Inches(.5), Inches(9), Inches(6.5)\n",
    "slide1.shapes.add_chart(\n",
    "   XL_CHART_TYPE.COLUMN_CLUSTERED, x, y, cx, cy, chart_data\n",
    ")\n",
    "\n",
    "\n",
    "# export and save the presentation\n",
    "prs.save('chart.pptx')"
   ]
  },
  {
   "cell_type": "code",
   "execution_count": 5,
   "id": "267d70e2",
   "metadata": {},
   "outputs": [],
   "source": [
    "#table\n",
    "\n",
    "from pptx import Presentation\n",
    "from pptx.util import Inches\n",
    "\n",
    "prs = Presentation()\n",
    "\n",
    "\n",
    "slide_layout = prs.slide_layouts[5]\n",
    "slide_1 = prs.slides.add_slide(slide_layout)\n",
    "\n",
    "\n",
    "table_title = slide_1.shapes.title\n",
    "table_title.text = \"My Table\"\n",
    "\n",
    "#add table to slide \n",
    "\n",
    "left_table = Inches(1)\n",
    "top_table = Inches(2)\n",
    "width_table = Inches(8)\n",
    "height_table = Inches(3)\n",
    "table_frame = slide_1.shapes.add_table(3,4, left_table, top_table, width_table, height_table)\n",
    "\n",
    "#Populating Table\n",
    "\n",
    "table1 = table_frame.table\n",
    "cell = table1.cell(0,0)\n",
    "cell.text = \"Insert value Here\"\n",
    "\n",
    "\n",
    "prs.save(\"table.pptx\")"
   ]
  },
  {
   "cell_type": "code",
   "execution_count": 11,
   "id": "1d424390",
   "metadata": {},
   "outputs": [],
   "source": [
    "from pptx import Presentation\n",
    "from pptx.util import Inches\n",
    "\n",
    "# Your table data\n",
    "table_data = {'table': [['Category', 'Technology 1', 'Technology 2', 'Technology 3', 'Technology 4'],\n",
    "                        ['Data Collection', 'Web Scraping', 'API Integration', 'Survey Data', 'Sensor Data'],\n",
    "                        ['Data Cleaning', 'Missing Values', 'Outlier Detection', 'Data Standardization', 'Data Imputation'],\n",
    "                        ['Exploratory Data Analysis', 'Histograms', 'Scatter Plots', 'Box Plots', 'Heatmaps'],\n",
    "                        ['Data Preprocessing', 'Feature Scaling', 'One-Hot Encoding', 'Principal Component Analysis', 'Feature Selection']]}\n",
    "\n",
    "# Create a new PowerPoint presentation\n",
    "prs = Presentation()\n",
    "\n",
    "# Add a slide\n",
    "slide_layout = prs.slide_layouts[5]\n",
    "slide = prs.slides.add_slide(slide_layout)\n",
    "\n",
    "# Set the title of the slide\n",
    "table_title = slide.shapes.title\n",
    "table_title.text = \"My Table\"\n",
    "\n",
    "# Define table dimensions and location\n",
    "left_table = Inches(0.5)\n",
    "top_table = Inches(1.5)\n",
    "width_table = Inches(9)\n",
    "height_table = Inches(3)\n",
    "\n",
    "# Add the table to the slide with 5 rows (excluding the empty row)\n",
    "table_frame = slide.shapes.add_table(5, 5, left_table, top_table, width_table, height_table)\n",
    "table = table_frame.table\n",
    "\n",
    "# Populate the table with data from the table_data dictionary\n",
    "for row_index, row_data in enumerate(table_data['table']):\n",
    "    for col_index, cell_value in enumerate(row_data):\n",
    "        table.cell(row_index, col_index).text = cell_value\n",
    "\n",
    "# Save the presentation\n",
    "prs.save(\"table.pptx\")\n"
   ]
  },
  {
   "cell_type": "code",
   "execution_count": 12,
   "id": "5adce778",
   "metadata": {},
   "outputs": [],
   "source": [
    "from pptx import Presentation\n",
    "from pptx.util import Inches\n",
    "from pptx.enum.shapes import MSO_SHAPE\n",
    "from pptx.dml.color import RGBColor\n",
    "from pptx.util import Pt\n",
    "from pptx.enum.text import PP_ALIGN\n",
    "\n",
    "# Create a new PowerPoint presentation\n",
    "prs = Presentation()\n",
    "\n",
    "# Add a slide\n",
    "slide_layout = prs.slide_layouts[5]\n",
    "slide = prs.slides.add_slide(slide_layout)\n",
    "\n",
    "# Define the gradient colors (start and end colors)\n",
    "start_color = RGBColor(255, 0, 0)  # Red\n",
    "end_color = RGBColor(0, 0, 255)    # Blue\n",
    "\n",
    "# Create a background shape that covers the entire slide\n",
    "left = top = Inches(0)\n",
    "width = Inches(10)\n",
    "height = Inches(7.5)\n",
    "background_shape = slide.shapes.add_shape(MSO_SHAPE.RECTANGLE, left, top, width, height)\n",
    "\n",
    "# Set the fill properties to a gradient fill\n",
    "background_fill = background_shape.fill\n",
    "background_fill.solid()\n",
    "background_fill.fore_color.rgb = start_color  # Start color\n",
    "background_fill.gradient()\n",
    "background_fill.gradient_stops[0].color.rgb = start_color  # Start color at 0% position\n",
    "background_fill.gradient_stops[1].color.rgb = end_color    # End color at 100% position\n",
    "\n",
    "# You can adjust the gradient stops and other properties as needed\n",
    "background_fill.gradient_angle = 45  # Gradient angle (degrees)\n",
    "\n",
    "# Save the presentation\n",
    "prs.save(\"gradient_background.pptx\")\n"
   ]
  },
  {
   "cell_type": "code",
   "execution_count": 1,
   "id": "d6e1ee05",
   "metadata": {},
   "outputs": [],
   "source": [
    "from pptx.oxml import parse_xml\n"
   ]
  }
 ],
 "metadata": {
  "kernelspec": {
   "display_name": "Python 3 (ipykernel)",
   "language": "python",
   "name": "python3"
  },
  "language_info": {
   "codemirror_mode": {
    "name": "ipython",
    "version": 3
   },
   "file_extension": ".py",
   "mimetype": "text/x-python",
   "name": "python",
   "nbconvert_exporter": "python",
   "pygments_lexer": "ipython3",
   "version": "3.11.4"
  },
  "varInspector": {
   "cols": {
    "lenName": 16,
    "lenType": 16,
    "lenVar": 40
   },
   "kernels_config": {
    "python": {
     "delete_cmd_postfix": "",
     "delete_cmd_prefix": "del ",
     "library": "var_list.py",
     "varRefreshCmd": "print(var_dic_list())"
    },
    "r": {
     "delete_cmd_postfix": ") ",
     "delete_cmd_prefix": "rm(",
     "library": "var_list.r",
     "varRefreshCmd": "cat(var_dic_list()) "
    }
   },
   "types_to_exclude": [
    "module",
    "function",
    "builtin_function_or_method",
    "instance",
    "_Feature"
   ],
   "window_display": false
  }
 },
 "nbformat": 4,
 "nbformat_minor": 5
}

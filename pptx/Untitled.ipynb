{
 "cells": [
  {
   "cell_type": "code",
   "execution_count": 2,
   "id": "f2b933d9",
   "metadata": {},
   "outputs": [
    {
     "name": "stdout",
     "output_type": "stream",
     "text": [
      "Collecting python-pptx\n",
      "  Obtaining dependency information for python-pptx from https://files.pythonhosted.org/packages/c0/ea/94b20a70ed151c4af20dbc3aaa275a89757964f9df5a960698e399012c5e/python_pptx-0.6.22-py3-none-any.whl.metadata\n",
      "  Using cached python_pptx-0.6.22-py3-none-any.whl.metadata (18 kB)\n",
      "Requirement already satisfied: lxml>=3.1.0 in c:\\users\\numl-\\anaconda3\\lib\\site-packages (from python-pptx) (4.9.2)\n",
      "Requirement already satisfied: Pillow<=9.5.0,>=3.3.2 in c:\\users\\numl-\\anaconda3\\lib\\site-packages (from python-pptx) (9.4.0)\n",
      "Collecting XlsxWriter>=0.5.7 (from python-pptx)\n",
      "  Obtaining dependency information for XlsxWriter>=0.5.7 from https://files.pythonhosted.org/packages/37/94/25d3ec8587974de7ebd790232aa3155abfe44ed23df7ccaa4645977a1cbe/XlsxWriter-3.1.2-py3-none-any.whl.metadata\n",
      "  Using cached XlsxWriter-3.1.2-py3-none-any.whl.metadata (2.5 kB)\n",
      "Using cached python_pptx-0.6.22-py3-none-any.whl (471 kB)\n",
      "Using cached XlsxWriter-3.1.2-py3-none-any.whl (153 kB)\n",
      "Installing collected packages: XlsxWriter, python-pptx\n",
      "Successfully installed XlsxWriter-3.1.2 python-pptx-0.6.22\n"
     ]
    }
   ],
   "source": [
    "!pip install python-pptx\n"
   ]
  },
  {
   "cell_type": "code",
   "execution_count": 37,
   "id": "941779d5",
   "metadata": {},
   "outputs": [
    {
     "data": {
      "text/plain": [
       "['__call__',\n",
       " '__class__',\n",
       " '__delattr__',\n",
       " '__dir__',\n",
       " '__doc__',\n",
       " '__eq__',\n",
       " '__format__',\n",
       " '__func__',\n",
       " '__ge__',\n",
       " '__getattribute__',\n",
       " '__getstate__',\n",
       " '__gt__',\n",
       " '__hash__',\n",
       " '__init__',\n",
       " '__init_subclass__',\n",
       " '__le__',\n",
       " '__lt__',\n",
       " '__ne__',\n",
       " '__new__',\n",
       " '__reduce__',\n",
       " '__reduce_ex__',\n",
       " '__repr__',\n",
       " '__self__',\n",
       " '__setattr__',\n",
       " '__sizeof__',\n",
       " '__str__',\n",
       " '__subclasshook__']"
      ]
     },
     "execution_count": 37,
     "metadata": {},
     "output_type": "execute_result"
    }
   ],
   "source": [
    "from pptx import Presentation\n",
    "\n",
    "prs = Presentation()\n",
    "\n",
    "slide = prs.slides.add_slide(prs.slide_layouts[8])\n",
    "dir(slide.shapes.add_picture)\n",
    "# for shape in slide.shapes:\n",
    "#     if shape.is_placeholder:\n",
    "#         phf = shape.placeholder_format\n",
    "#         print('%d, %s'%(phf.idx, phf.type))"
   ]
  },
  {
   "cell_type": "code",
   "execution_count": 34,
   "id": "df788b57",
   "metadata": {},
   "outputs": [
    {
     "data": {
      "text/plain": [
       "['__class__',\n",
       " '__delattr__',\n",
       " '__dict__',\n",
       " '__dir__',\n",
       " '__doc__',\n",
       " '__eq__',\n",
       " '__format__',\n",
       " '__ge__',\n",
       " '__getattribute__',\n",
       " '__getstate__',\n",
       " '__gt__',\n",
       " '__hash__',\n",
       " '__init__',\n",
       " '__init_subclass__',\n",
       " '__le__',\n",
       " '__lt__',\n",
       " '__module__',\n",
       " '__ne__',\n",
       " '__new__',\n",
       " '__reduce__',\n",
       " '__reduce_ex__',\n",
       " '__repr__',\n",
       " '__setattr__',\n",
       " '__sizeof__',\n",
       " '__str__',\n",
       " '__subclasshook__',\n",
       " '__weakref__',\n",
       " '_base_placeholder',\n",
       " '_effective_value',\n",
       " '_element',\n",
       " '_inherited_value',\n",
       " '_parent',\n",
       " '_pic',\n",
       " 'auto_shape_type',\n",
       " 'click_action',\n",
       " 'crop_bottom',\n",
       " 'crop_left',\n",
       " 'crop_right',\n",
       " 'crop_top',\n",
       " 'element',\n",
       " 'get_or_add_ln',\n",
       " 'has_chart',\n",
       " 'has_table',\n",
       " 'has_text_frame',\n",
       " 'height',\n",
       " 'image',\n",
       " 'is_placeholder',\n",
       " 'left',\n",
       " 'line',\n",
       " 'ln',\n",
       " 'name',\n",
       " 'part',\n",
       " 'placeholder_format',\n",
       " 'rotation',\n",
       " 'shadow',\n",
       " 'shape_id',\n",
       " 'shape_type',\n",
       " 'top',\n",
       " 'width']"
      ]
     },
     "execution_count": 34,
     "metadata": {},
     "output_type": "execute_result"
    }
   ],
   "source": [
    "placeholder = slide.placeholders[1]\n",
    "# picture = placeholder.insert_picture('image.jpg')\n",
    "placeholder.name\n",
    "dir(placeholder)"
   ]
  },
  {
   "cell_type": "code",
   "execution_count": 52,
   "id": "94e6bb47",
   "metadata": {},
   "outputs": [
    {
     "ename": "AttributeError",
     "evalue": "'_Cell' object has no attribute 'border'",
     "output_type": "error",
     "traceback": [
      "\u001b[1;31m---------------------------------------------------------------------------\u001b[0m",
      "\u001b[1;31mAttributeError\u001b[0m                            Traceback (most recent call last)",
      "Cell \u001b[1;32mIn[52], line 35\u001b[0m\n\u001b[0;32m     33\u001b[0m \u001b[38;5;28;01mfor\u001b[39;00m row \u001b[38;5;129;01min\u001b[39;00m table\u001b[38;5;241m.\u001b[39mrows:\n\u001b[0;32m     34\u001b[0m     \u001b[38;5;28;01mfor\u001b[39;00m cell \u001b[38;5;129;01min\u001b[39;00m row\u001b[38;5;241m.\u001b[39mcells:\n\u001b[1;32m---> 35\u001b[0m         cell\u001b[38;5;241m.\u001b[39mborder\u001b[38;5;241m.\u001b[39mcolor\u001b[38;5;241m.\u001b[39mrgb \u001b[38;5;241m=\u001b[39m (\u001b[38;5;241m0\u001b[39m, \u001b[38;5;241m0\u001b[39m, \u001b[38;5;241m0\u001b[39m)  \u001b[38;5;66;03m# Set border color to black\u001b[39;00m\n\u001b[0;32m     36\u001b[0m         cell\u001b[38;5;241m.\u001b[39mborder\u001b[38;5;241m.\u001b[39mwidth \u001b[38;5;241m=\u001b[39m Inches(\u001b[38;5;241m0.02\u001b[39m)  \u001b[38;5;66;03m# Set border width\u001b[39;00m\n\u001b[0;32m     37\u001b[0m         \u001b[38;5;28;01mfor\u001b[39;00m paragraph \u001b[38;5;129;01min\u001b[39;00m cell\u001b[38;5;241m.\u001b[39mtext_frame\u001b[38;5;241m.\u001b[39mparagraphs:\n",
      "\u001b[1;31mAttributeError\u001b[0m: '_Cell' object has no attribute 'border'"
     ]
    }
   ],
   "source": [
    "from pptx import Presentation\n",
    "from pptx.util import Inches\n",
    "\n",
    "# Create a presentation object\n",
    "prs = Presentation()\n",
    "\n",
    "# Add a slide\n",
    "slide_layout = prs.slide_layouts[5]  # Use the desired slide layout (5 is for blank)\n",
    "slide = prs.slides.add_slide(slide_layout)\n",
    "\n",
    "# Define the number of rows and columns for your table\n",
    "num_rows = 4\n",
    "num_cols = 3\n",
    "\n",
    "# Define the width and height of the table\n",
    "table_width = Inches(6.0)\n",
    "table_height = Inches(2.0)\n",
    "\n",
    "# Define the position of the table on the slide\n",
    "left = Inches(1.0)\n",
    "top = Inches(2.0)\n",
    "\n",
    "# Add a table to the slide\n",
    "table = slide.shapes.add_table(num_rows, num_cols, left, top, table_width, table_height).table\n",
    "\n",
    "# Add content to the table cells\n",
    "for row in range(num_rows):\n",
    "    for col in range(num_cols):\n",
    "        cell = table.cell(row, col)\n",
    "        cell.text = f'Row {row + 1}, Col {col + 1}'\n",
    "\n",
    "# Customize the appearance of the table (e.g., borders, text formatting)\n",
    "for row in table.rows:\n",
    "    for cell in row.cells:\n",
    "        cell.border.color.rgb = (0, 0, 0)  # Set border color to black\n",
    "        cell.border.width = Inches(0.02)  # Set border width\n",
    "        for paragraph in cell.text_frame.paragraphs:\n",
    "            for run in paragraph.runs:\n",
    "                run.font.size = Pt(12)  # Set font size\n",
    "\n",
    "# Save the PowerPoint presentation\n",
    "prs.save('table_example.pptx')\n"
   ]
  },
  {
   "cell_type": "code",
   "execution_count": 77,
   "id": "cf95572a",
   "metadata": {},
   "outputs": [],
   "source": [
    "##To remove water mark\n",
    "\n",
    "from pptx import Presentation\n",
    "\n",
    "# Load the PowerPoint presentation\n",
    "presentation = Presentation('SampleTransition_out.pptx')\n",
    "\n",
    "# Define the text to be removed (watermarks)\n",
    "watermarks_to_remove = [\n",
    "    \"Evaluation only.\",\n",
    "    \"Created with Aspose.Slides for .NET Standard 2.0 23.8.\",\n",
    "    \"Copyright 2004-2023Aspose Pty Ltd.\"\n",
    "]\n",
    "\n",
    "# Function to remove specified text from a shape's text content\n",
    "def remove_watermarks_from_slide(slide, watermarks_to_remove):\n",
    "    for shape in slide.shapes:\n",
    "        if shape.has_text_frame:\n",
    "            for paragraph in shape.text_frame.paragraphs:\n",
    "                for run in paragraph.runs:\n",
    "                    for watermark in watermarks_to_remove:\n",
    "                        if watermark in run.text:\n",
    "                            run.text = run.text.replace(watermark, \"\")\n",
    "\n",
    "# Iterate through slides and remove watermarks\n",
    "for slide in presentation.slides:\n",
    "    remove_watermarks_from_slide(slide, watermarks_to_remove)\n",
    "\n",
    "# Save the modified PowerPoint presentation\n",
    "presentation.save('modified_presentation.pptx')\n"
   ]
  },
  {
   "cell_type": "code",
   "execution_count": 62,
   "id": "7ac58b5a",
   "metadata": {},
   "outputs": [
    {
     "ename": "TypeError",
     "evalue": "'Presentation' object does not support the context manager protocol",
     "output_type": "error",
     "traceback": [
      "\u001b[1;31m---------------------------------------------------------------------------\u001b[0m",
      "\u001b[1;31mTypeError\u001b[0m                                 Traceback (most recent call last)",
      "Cell \u001b[1;32mIn[62], line 2\u001b[0m\n\u001b[0;32m      1\u001b[0m \u001b[38;5;28;01mimport\u001b[39;00m \u001b[38;5;21;01mpptx\u001b[39;00m\n\u001b[1;32m----> 2\u001b[0m \u001b[38;5;28;01mwith\u001b[39;00m pptx\u001b[38;5;241m.\u001b[39mPresentation(\u001b[38;5;124m\"\u001b[39m\u001b[38;5;124mmodified_presentation.pptx\u001b[39m\u001b[38;5;124m\"\u001b[39m) \u001b[38;5;28;01mas\u001b[39;00m presentation:\n\u001b[0;32m      3\u001b[0m     \u001b[38;5;66;03m# Set the transition type to comb for all slides\u001b[39;00m\n\u001b[0;32m      4\u001b[0m     \u001b[38;5;28;01mfor\u001b[39;00m slide \u001b[38;5;129;01min\u001b[39;00m presentation\u001b[38;5;241m.\u001b[39mslides:\n\u001b[0;32m      5\u001b[0m         slide\u001b[38;5;241m.\u001b[39mslide_show_transition\u001b[38;5;241m.\u001b[39mtype \u001b[38;5;241m=\u001b[39m pptx\u001b[38;5;241m.\u001b[39mslideshow\u001b[38;5;241m.\u001b[39mTransitionType\u001b[38;5;241m.\u001b[39mCOMB\n",
      "\u001b[1;31mTypeError\u001b[0m: 'Presentation' object does not support the context manager protocol"
     ]
    }
   ],
   "source": [
    "\n"
   ]
  },
  {
   "cell_type": "code",
   "execution_count": 63,
   "id": "76bfe646",
   "metadata": {},
   "outputs": [
    {
     "name": "stdout",
     "output_type": "stream",
     "text": [
      "Collecting behave\n",
      "  Downloading behave-1.2.6-py2.py3-none-any.whl (136 kB)\n",
      "     ---------------------------------------- 0.0/136.8 kB ? eta -:--:--\n",
      "     ---------------------------------------- 0.0/136.8 kB ? eta -:--:--\n",
      "     -------- ------------------------------ 30.7/136.8 kB 1.3 MB/s eta 0:00:01\n",
      "     ---------------- -------------------- 61.4/136.8 kB 812.7 kB/s eta 0:00:01\n",
      "     ------------------------------- ------ 112.6/136.8 kB 1.1 MB/s eta 0:00:01\n",
      "     -------------------------------- --- 122.9/136.8 kB 722.1 kB/s eta 0:00:01\n",
      "     ------------------------------------ 136.8/136.8 kB 577.8 kB/s eta 0:00:00\n",
      "Collecting parse>=1.8.2 (from behave)\n",
      "  Obtaining dependency information for parse>=1.8.2 from https://files.pythonhosted.org/packages/9c/57/6c51ccd70de3ebcfb0bb5b0eea2ac0ab13c51ab55043a7243faef9eb58ef/parse-1.19.1-py2.py3-none-any.whl.metadata\n",
      "  Downloading parse-1.19.1-py2.py3-none-any.whl.metadata (20 kB)\n",
      "Collecting parse-type>=0.4.2 (from behave)\n",
      "  Obtaining dependency information for parse-type>=0.4.2 from https://files.pythonhosted.org/packages/ea/57/8a965284ef665bdb538693203ecf064232b89ba43cdab226f9e3d714ed1a/parse_type-0.6.2-py2.py3-none-any.whl.metadata\n",
      "  Downloading parse_type-0.6.2-py2.py3-none-any.whl.metadata (12 kB)\n",
      "Requirement already satisfied: six>=1.11 in c:\\users\\numl-\\anaconda3\\lib\\site-packages (from behave) (1.16.0)\n",
      "Downloading parse-1.19.1-py2.py3-none-any.whl (18 kB)\n",
      "Downloading parse_type-0.6.2-py2.py3-none-any.whl (26 kB)\n",
      "Installing collected packages: parse, parse-type, behave\n",
      "Successfully installed behave-1.2.6 parse-1.19.1 parse-type-0.6.2\n",
      "Requirement already satisfied: flake8 in c:\\users\\numl-\\anaconda3\\lib\\site-packages (6.0.0)\n",
      "Requirement already satisfied: mccabe<0.8.0,>=0.7.0 in c:\\users\\numl-\\anaconda3\\lib\\site-packages (from flake8) (0.7.0)\n",
      "Requirement already satisfied: pycodestyle<2.11.0,>=2.10.0 in c:\\users\\numl-\\anaconda3\\lib\\site-packages (from flake8) (2.10.0)\n",
      "Requirement already satisfied: pyflakes<3.1.0,>=3.0.0 in c:\\users\\numl-\\anaconda3\\lib\\site-packages (from flake8) (3.0.1)\n",
      "Requirement already satisfied: lxml in c:\\users\\numl-\\anaconda3\\lib\\site-packages (4.9.2)\n",
      "Collecting mock\n",
      "  Obtaining dependency information for mock from https://files.pythonhosted.org/packages/6b/20/471f41173930550f279ccb65596a5ac19b9ac974a8d93679bcd3e0c31498/mock-5.1.0-py3-none-any.whl.metadata\n",
      "  Downloading mock-5.1.0-py3-none-any.whl.metadata (3.0 kB)\n",
      "Downloading mock-5.1.0-py3-none-any.whl (30 kB)\n",
      "Installing collected packages: mock\n",
      "Successfully installed mock-5.1.0\n",
      "Requirement already satisfied: Pillow in c:\\users\\numl-\\anaconda3\\lib\\site-packages (9.4.0)\n",
      "Requirement already satisfied: pyparsing in c:\\users\\numl-\\anaconda3\\lib\\site-packages (3.0.9)\n",
      "Requirement already satisfied: pytest in c:\\users\\numl-\\anaconda3\\lib\\site-packages (7.4.0)\n",
      "Requirement already satisfied: iniconfig in c:\\users\\numl-\\anaconda3\\lib\\site-packages (from pytest) (1.1.1)\n",
      "Requirement already satisfied: packaging in c:\\users\\numl-\\anaconda3\\lib\\site-packages (from pytest) (23.0)\n",
      "Requirement already satisfied: pluggy<2.0,>=0.12 in c:\\users\\numl-\\anaconda3\\lib\\site-packages (from pytest) (1.0.0)\n",
      "Requirement already satisfied: colorama in c:\\users\\numl-\\anaconda3\\lib\\site-packages (from pytest) (0.4.6)\n",
      "Requirement already satisfied: XlsxWriter in c:\\users\\numl-\\anaconda3\\lib\\site-packages (3.1.2)\n"
     ]
    }
   ],
   "source": [
    "!pip install behave\n",
    "!pip install flake8\n",
    "!pip install lxml\n",
    "!pip install mock\n",
    "!pip install Pillow\n",
    "!pip install pyparsing\n",
    "!pip install pytest\n",
    "!pip install XlsxWriter"
   ]
  }
 ],
 "metadata": {
  "kernelspec": {
   "display_name": "Python 3 (ipykernel)",
   "language": "python",
   "name": "python3"
  },
  "language_info": {
   "codemirror_mode": {
    "name": "ipython",
    "version": 3
   },
   "file_extension": ".py",
   "mimetype": "text/x-python",
   "name": "python",
   "nbconvert_exporter": "python",
   "pygments_lexer": "ipython3",
   "version": "3.11.4"
  },
  "varInspector": {
   "cols": {
    "lenName": 16,
    "lenType": 16,
    "lenVar": 40
   },
   "kernels_config": {
    "python": {
     "delete_cmd_postfix": "",
     "delete_cmd_prefix": "del ",
     "library": "var_list.py",
     "varRefreshCmd": "print(var_dic_list())"
    },
    "r": {
     "delete_cmd_postfix": ") ",
     "delete_cmd_prefix": "rm(",
     "library": "var_list.r",
     "varRefreshCmd": "cat(var_dic_list()) "
    }
   },
   "types_to_exclude": [
    "module",
    "function",
    "builtin_function_or_method",
    "instance",
    "_Feature"
   ],
   "window_display": false
  }
 },
 "nbformat": 4,
 "nbformat_minor": 5
}

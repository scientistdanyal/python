{
 "cells": [
  {
   "cell_type": "code",
   "execution_count": 1,
   "id": "cf95572a",
   "metadata": {},
   "outputs": [],
   "source": [
    "##To remove water mark\n",
    "\n",
    "from pptx import Presentation\n",
    "\n",
    "# Load the PowerPoint presentation\n",
    "presentation = Presentation('AnimationEffectinParagraph.pptx')\n",
    "\n",
    "# Define the text to be removed (watermarks)\n",
    "watermarks_to_remove = [\n",
    "    \"Evaluation only.\",\n",
    "    \"Created with Aspose.Slides for .NET Standard 2.0 23.8.\",\n",
    "    \"Copyright 2004-2023Aspose Pty Ltd.\"\n",
    "]\n",
    "\n",
    "# Function to remove specified text from a shape's text content\n",
    "def remove_watermarks_from_slide(slide, watermarks_to_remove):\n",
    "    for shape in slide.shapes:\n",
    "        if shape.has_text_frame:\n",
    "            for paragraph in shape.text_frame.paragraphs:\n",
    "                for run in paragraph.runs:\n",
    "                    for watermark in watermarks_to_remove:\n",
    "                        if watermark in run.text:\n",
    "                            run.text = run.text.replace(watermark, \"\")\n",
    "\n",
    "# Iterate through slides and remove watermarks\n",
    "for slide in presentation.slides:\n",
    "    remove_watermarks_from_slide(slide, watermarks_to_remove)\n",
    "\n",
    "# Save the modified PowerPoint presentation\n",
    "presentation.save('modified_presentation.pptx')\n"
   ]
  }
 ],
 "metadata": {
  "kernelspec": {
   "display_name": "Python 3 (ipykernel)",
   "language": "python",
   "name": "python3"
  },
  "language_info": {
   "codemirror_mode": {
    "name": "ipython",
    "version": 3
   },
   "file_extension": ".py",
   "mimetype": "text/x-python",
   "name": "python",
   "nbconvert_exporter": "python",
   "pygments_lexer": "ipython3",
   "version": "3.11.4"
  },
  "varInspector": {
   "cols": {
    "lenName": 16,
    "lenType": 16,
    "lenVar": 40
   },
   "kernels_config": {
    "python": {
     "delete_cmd_postfix": "",
     "delete_cmd_prefix": "del ",
     "library": "var_list.py",
     "varRefreshCmd": "print(var_dic_list())"
    },
    "r": {
     "delete_cmd_postfix": ") ",
     "delete_cmd_prefix": "rm(",
     "library": "var_list.r",
     "varRefreshCmd": "cat(var_dic_list()) "
    }
   },
   "types_to_exclude": [
    "module",
    "function",
    "builtin_function_or_method",
    "instance",
    "_Feature"
   ],
   "window_display": false
  }
 },
 "nbformat": 4,
 "nbformat_minor": 5
}

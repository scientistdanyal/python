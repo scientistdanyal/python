{
 "cells": [
  {
   "cell_type": "code",
   "execution_count": null,
   "id": "3a9fa829",
   "metadata": {},
   "outputs": [],
   "source": [
    "Drinks = [\n",
    "    \"Water\",\n",
    "    \"Coffee\",\n",
    "    \"Tea\",\n",
    "    \"Orange Juice\",\n",
    "    \"Lemonade\",\n",
    "    \"Cola\",\n",
    "    \"Milk\",\n",
    "    \"Iced Tea\",\n",
    "    \"Soda\",\n",
    "    \"Apple Juice\",\n",
    "    \"Hot Chocolate\",\n",
    "    \"Ginger Ale\",\n",
    "    \"Cranberry Juice\",\n",
    "    \"Limeade\",\n",
    "    \"Grape Juice\",\n",
    "    \"Pineapple Juice\",\n",
    "    \"Lemon-Lime Soda\",\n",
    "    \"Mango Smoothie\",\n",
    "    \"Peach Iced Tea\",\n",
    "    \"Mocha Coffee\"\n",
    "]\n",
    "\n",
    "count_e = 0\n",
    "for product in Drinks:\n",
    "    if 'e' in product.lower():\n",
    "        count_e +=1\n",
    "\n",
    "        \n",
    "print(f'Porducts with letter \"e\" in them are: {count_e}')        "
   ]
  },
  {
   "cell_type": "code",
   "execution_count": 2,
   "id": "64bba7fb",
   "metadata": {},
   "outputs": [
    {
     "name": "stdout",
     "output_type": "stream",
     "text": [
      "Products with lette 'b' in them are: 1\n"
     ]
    }
   ],
   "source": [
    "count_b = 0\n",
    "for product in Drinks:\n",
    "    if 'b' in product.lower():\n",
    "        count_b +=1\n",
    "\n",
    "print(\"Products with letter 'b' in them are: {}\".format(count_b))"
   ]
  },
  {
   "cell_type": "markdown",
   "id": "cf2b701d",
   "metadata": {},
   "source": [
    "# Password authentication "
   ]
  },
  {
   "cell_type": "code",
   "execution_count": 14,
   "id": "f507647e",
   "metadata": {},
   "outputs": [
    {
     "name": "stdout",
     "output_type": "stream",
     "text": [
      "Enter username: user1\n",
      "Enter your password: ········\n",
      "Invalid username or password. Try again!\n",
      "Enter username: 939\n",
      "Enter your password: ········\n",
      "Invalid username or password. Try again!\n",
      "Enter username: kdjf\n",
      "Enter your password: ········\n",
      "Invalid username or password. Try again!\n",
      "You have reached the maxmum attempts.\n"
     ]
    }
   ],
   "source": [
    "import getpass\n",
    "\n",
    "total_attempts = 3\n",
    "\n",
    "for _ in range(total_attempts):\n",
    "    username = input(\"Enter username: \")\n",
    "    \n",
    "    \n",
    "    password = getpass.getpass(\"Enter your password: \")\n",
    "    \n",
    "    if username in user_accounts and user_accounts[username] == password:\n",
    "        print(\"Access granted!\")\n",
    "        break\n",
    "    else:\n",
    "        print(\"Invalid username or password. Try again!\")\n",
    "else:\n",
    "    print(\"You have reached the maxmum attempts.\")"
   ]
  },
  {
   "cell_type": "markdown",
   "id": "5f5634d8",
   "metadata": {},
   "source": [
    "# lambda function\n"
   ]
  },
  {
   "cell_type": "code",
   "execution_count": 17,
   "id": "502d218e",
   "metadata": {},
   "outputs": [
    {
     "name": "stdout",
     "output_type": "stream",
     "text": [
      "<map object at 0x0000016EDCCF46D0>\n",
      "['Water???', 'Coffee???', 'Tea???', 'Orange Juice???', 'Lemonade???', 'Cola???', 'Milk???', 'Iced Tea???', 'Soda???', 'Apple Juice???', 'Hot Chocolate???', 'Ginger Ale???', 'Cranberry Juice???', 'Limeade???', 'Grape Juice???', 'Pineapple Juice???', 'Lemon-Lime Soda???', 'Mango Smoothie???', 'Peach Iced Tea???', 'Mocha Coffee???']\n"
     ]
    }
   ],
   "source": [
    "Drinks = [\n",
    "    \"Water\",\n",
    "    \"Coffee\",\n",
    "    \"Tea\",\n",
    "    \"Orange Juice\",\n",
    "    \"Lemonade\",\n",
    "    \"Cola\",\n",
    "    \"Milk\",\n",
    "    \"Iced Tea\",\n",
    "    \"Soda\",\n",
    "    \"Apple Juice\",\n",
    "    \"Hot Chocolate\",\n",
    "    \"Ginger Ale\",\n",
    "    \"Cranberry Juice\",\n",
    "    \"Limeade\",\n",
    "    \"Grape Juice\",\n",
    "    \"Pineapple Juice\",\n",
    "    \"Lemon-Lime Soda\",\n",
    "    \"Mango Smoothie\",\n",
    "    \"Peach Iced Tea\",\n",
    "    \"Mocha Coffee\"\n",
    "]\n",
    "\n",
    "shout_spells = map(lambda items: (items + \"???\"), Drinks)\n",
    "print(shout_spells)\n",
    "shout_spels = list(shout_spells)\n",
    "print(shout_spels)"
   ]
  },
  {
   "cell_type": "code",
   "execution_count": 24,
   "id": "d05be40a",
   "metadata": {},
   "outputs": [
    {
     "name": "stdout",
     "output_type": "stream",
     "text": [
      "Heads or Tails? tails\n",
      "Player call = tails\n",
      "Coin toss result heads\n",
      "Better luck next time!\n"
     ]
    }
   ],
   "source": [
    "from random import choice\n",
    "\n",
    "def cointosser():\n",
    "    coin_faces = ['heads', 'tails']\n",
    "\n",
    "    while True:\n",
    "        player_choice = input(\"Heads or Tails? \").lower()\n",
    "        \n",
    "        \n",
    "        print(\"Player call = {}\".format(player_choice))\n",
    "        if player_choice in coin_faces:\n",
    "            coin_toss = choice(coin_faces)\n",
    "            print(\"Coin toss result {}\".format(coin_toss))\n",
    "            if player_choice == coin_toss:\n",
    "                print(\"You won!\")\n",
    "            else:\n",
    "                print(\"Better luck next time!\")\n",
    "            break\n",
    "        else:\n",
    "            print(\"Invalid choice! Please choose 'Heads' or 'Tails'.\")\n",
    "\n",
    "cointosser()\n"
   ]
  },
  {
   "cell_type": "code",
   "execution_count": 30,
   "id": "cbd826aa",
   "metadata": {},
   "outputs": [
    {
     "name": "stdout",
     "output_type": "stream",
     "text": [
      "5\n"
     ]
    }
   ],
   "source": [
    "arr = [2,3,5,2,4,6]\n",
    "arr.sort()\n",
    "arr.reverse()\n",
    "for i in range(len(arr)):\n",
    "    last = arr[i]\n",
    "    second_last = arr[i+1]\n",
    "    if (last != second_last):\n",
    "        print(second_last)\n",
    "        break\n"
   ]
  },
  {
   "cell_type": "code",
   "execution_count": null,
   "id": "9a7cf199",
   "metadata": {},
   "outputs": [],
   "source": []
  }
 ],
 "metadata": {
  "kernelspec": {
   "display_name": "Python 3 (ipykernel)",
   "language": "python",
   "name": "python3"
  },
  "language_info": {
   "codemirror_mode": {
    "name": "ipython",
    "version": 3
   },
   "file_extension": ".py",
   "mimetype": "text/x-python",
   "name": "python",
   "nbconvert_exporter": "python",
   "pygments_lexer": "ipython3",
   "version": "3.11.4"
  },
  "varInspector": {
   "cols": {
    "lenName": 16,
    "lenType": 16,
    "lenVar": 40
   },
   "kernels_config": {
    "python": {
     "delete_cmd_postfix": "",
     "delete_cmd_prefix": "del ",
     "library": "var_list.py",
     "varRefreshCmd": "print(var_dic_list())"
    },
    "r": {
     "delete_cmd_postfix": ") ",
     "delete_cmd_prefix": "rm(",
     "library": "var_list.r",
     "varRefreshCmd": "cat(var_dic_list()) "
    }
   },
   "types_to_exclude": [
    "module",
    "function",
    "builtin_function_or_method",
    "instance",
    "_Feature"
   ],
   "window_display": false
  }
 },
 "nbformat": 4,
 "nbformat_minor": 5
}

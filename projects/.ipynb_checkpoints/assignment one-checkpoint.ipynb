{
 "cells": [
  {
   "cell_type": "code",
   "execution_count": null,
   "id": "3a9fa829",
   "metadata": {},
   "outputs": [],
   "source": [
    "Drinks = [\n",
    "    \"Water\",\n",
    "    \"Coffee\",\n",
    "    \"Tea\",\n",
    "    \"Orange Juice\",\n",
    "    \"Lemonade\",\n",
    "    \"Cola\",\n",
    "    \"Milk\",\n",
    "    \"Iced Tea\",\n",
    "    \"Soda\",\n",
    "    \"Apple Juice\",\n",
    "    \"Hot Chocolate\",\n",
    "    \"Ginger Ale\",\n",
    "    \"Cranberry Juice\",\n",
    "    \"Limeade\",\n",
    "    \"Grape Juice\",\n",
    "    \"Pineapple Juice\",\n",
    "    \"Lemon-Lime Soda\",\n",
    "    \"Mango Smoothie\",\n",
    "    \"Peach Iced Tea\",\n",
    "    \"Mocha Coffee\"\n",
    "]\n",
    "\n",
    "count_e = 0\n",
    "for product in Drinks:\n",
    "    if 'e' in product.lower():\n",
    "        count_e +=1\n",
    "\n",
    "        \n",
    "print(f'Porducts with letter \"e\" in them are: {count_e}')        "
   ]
  },
  {
   "cell_type": "code",
   "execution_count": 2,
   "id": "64bba7fb",
   "metadata": {},
   "outputs": [
    {
     "name": "stdout",
     "output_type": "stream",
     "text": [
      "Products with lette 'b' in them are: 1\n"
     ]
    }
   ],
   "source": [
    "count_b = 0\n",
    "for product in Drinks:\n",
    "    if 'b' in product.lower():\n",
    "        count_b +=1\n",
    "\n",
    "print(\"Products with letter 'b' in them are: {}\".format(count_b))"
   ]
  },
  {
   "cell_type": "markdown",
   "id": "cf2b701d",
   "metadata": {},
   "source": [
    "# Password authentication "
   ]
  },
  {
   "cell_type": "code",
   "execution_count": 3,
   "id": "0bdffe6f",
   "metadata": {},
   "outputs": [
    {
     "data": {
      "text/plain": [
       "{'user1': 'password1',\n",
       " 'user2': 'password2',\n",
       " 'user3': 'password3',\n",
       " 'user4': 'password4',\n",
       " 'user5': 'password5',\n",
       " 'user6': 'password6',\n",
       " 'user7': 'password7',\n",
       " 'user8': 'password8',\n",
       " 'user9': 'password9',\n",
       " 'user10': 'password10'}"
      ]
     },
     "execution_count": 3,
     "metadata": {},
     "output_type": "execute_result"
    }
   ],
   "source": [
    "user_accounts = {\n",
    "    \"user1\": \"password1\",\n",
    "    \"user2\": \"password2\",\n",
    "    \"user3\": \"password3\",\n",
    "    \"user4\": \"password4\",\n",
    "    \"user5\": \"password5\",\n",
    "    \"user6\": \"password6\",\n",
    "    \"user7\": \"password7\",\n",
    "    \"user8\": \"password8\",\n",
    "    \"user9\": \"password9\",\n",
    "    \"user10\": \"password10\"\n",
    "}\n",
    "\n",
    "user_accounts"
   ]
  },
  {
   "cell_type": "code",
   "execution_count": null,
   "id": "f507647e",
   "metadata": {},
   "outputs": [],
   "source": []
  },
  {
   "cell_type": "code",
   "execution_count": null,
   "id": "03f7c0aa",
   "metadata": {},
   "outputs": [],
   "source": []
  },
  {
   "cell_type": "code",
   "execution_count": null,
   "id": "502d218e",
   "metadata": {},
   "outputs": [],
   "source": []
  }
 ],
 "metadata": {
  "kernelspec": {
   "display_name": "Python 3 (ipykernel)",
   "language": "python",
   "name": "python3"
  },
  "language_info": {
   "codemirror_mode": {
    "name": "ipython",
    "version": 3
   },
   "file_extension": ".py",
   "mimetype": "text/x-python",
   "name": "python",
   "nbconvert_exporter": "python",
   "pygments_lexer": "ipython3",
   "version": "3.11.4"
  },
  "varInspector": {
   "cols": {
    "lenName": 16,
    "lenType": 16,
    "lenVar": 40
   },
   "kernels_config": {
    "python": {
     "delete_cmd_postfix": "",
     "delete_cmd_prefix": "del ",
     "library": "var_list.py",
     "varRefreshCmd": "print(var_dic_list())"
    },
    "r": {
     "delete_cmd_postfix": ") ",
     "delete_cmd_prefix": "rm(",
     "library": "var_list.r",
     "varRefreshCmd": "cat(var_dic_list()) "
    }
   },
   "types_to_exclude": [
    "module",
    "function",
    "builtin_function_or_method",
    "instance",
    "_Feature"
   ],
   "window_display": false
  }
 },
 "nbformat": 4,
 "nbformat_minor": 5
}

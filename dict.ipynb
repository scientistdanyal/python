{
 "cells": [
  {
   "cell_type": "code",
   "execution_count": 8,
   "id": "81b890d5",
   "metadata": {},
   "outputs": [
    {
     "name": "stdout",
     "output_type": "stream",
     "text": [
      "<class 'dict'>\n",
      "dict_values(['Dani', 'Ali', 'Talha'])\n",
      "Dani\n",
      "Ali\n",
      "Talha\n"
     ]
    }
   ],
   "source": [
    "#value\n",
    "\n",
    "users : dict = {0:'Dani', 1:'Ali',2:'Talha'}\n",
    "print(type(users))\n",
    "\n",
    "print(users.values())\n",
    "\n",
    "for i in users.values():\n",
    "    print(i)"
   ]
  },
  {
   "cell_type": "code",
   "execution_count": 12,
   "id": "47be983c",
   "metadata": {},
   "outputs": [
    {
     "name": "stdout",
     "output_type": "stream",
     "text": [
      "dict_keys([0, 1, 2])\n"
     ]
    }
   ],
   "source": [
    "#key\n",
    "\n",
    "users : dict = {0: 'Dani', 1: 'Ali', 2: 'Talha'}\n",
    "    \n",
    "print(users.keys())\n"
   ]
  },
  {
   "cell_type": "code",
   "execution_count": 17,
   "id": "dcdfc720",
   "metadata": {},
   "outputs": [
    {
     "name": "stdout",
     "output_type": "stream",
     "text": [
      "Talha\n"
     ]
    },
    {
     "data": {
      "text/plain": [
       "{0: 'Dani', 1: 'Ali'}"
      ]
     },
     "execution_count": 17,
     "metadata": {},
     "output_type": "execute_result"
    }
   ],
   "source": [
    "#pop\n",
    "users : dict = {0: 'Dani', 1: 'Ali', 2: 'Talha'}\n",
    "popped = users.pop(2) #this method remove item having key of 2\n",
    "print(popped)\n",
    "users\n"
   ]
  },
  {
   "cell_type": "code",
   "execution_count": 16,
   "id": "e399bda5",
   "metadata": {},
   "outputs": [
    {
     "data": {
      "text/plain": [
       "{0: 'Dani', 1: 'Ali'}"
      ]
     },
     "execution_count": 16,
     "metadata": {},
     "output_type": "execute_result"
    }
   ],
   "source": [
    "#popitem remove last item\n",
    "users : dict = {0: 'Dani', 1: 'Ali', 2: 'Talha'}\n",
    "\n",
    "popped = users.popitem()\n",
    "users"
   ]
  },
  {
   "cell_type": "code",
   "execution_count": 22,
   "id": "766cdebc",
   "metadata": {},
   "outputs": [
    {
     "name": "stdout",
     "output_type": "stream",
     "text": [
      "{0: ['a', 'b', 'c'], 1: 'Ali', 2: 'Talha'}\n",
      "2106129856384\n",
      "2106129439104\n",
      "{0: ['!!!', 'b', 'c'], 1: 'Ali', 2: 'Talha'}\n",
      "{0: ['!!!', 'b', 'c'], 1: 'Ali', 2: 'Talha'}\n"
     ]
    }
   ],
   "source": [
    "#copy()\n",
    "users : dict = {0: ['a','b','c'], 1: 'Ali', 2: 'Talha'}\n",
    "my_copy : dict = users.copy()\n",
    "print(my_copy)\n",
    "\n",
    "print(id(my_copy)) #both have different memory id\n",
    "print(id(users))\n",
    "\n",
    "\n",
    "my_copy[0][0] = '!!!'\n",
    "\n",
    "print(my_copy)\n",
    "print(users)"
   ]
  },
  {
   "cell_type": "code",
   "execution_count": 25,
   "id": "805198e0",
   "metadata": {},
   "outputs": [
    {
     "name": "stdout",
     "output_type": "stream",
     "text": [
      "Talha\n",
      "Ali\n"
     ]
    }
   ],
   "source": [
    "#get()\n",
    "users : dict = {1: 'Dani', 3: 'Ali', 2: 'Talha'}\n",
    "\n",
    "print(users.get(2))\n",
    "print(users[3])\n",
    "\n",
    "\n",
    "\n"
   ]
  },
  {
   "cell_type": "code",
   "execution_count": 27,
   "id": "b3efbc09",
   "metadata": {},
   "outputs": [
    {
     "name": "stdout",
     "output_type": "stream",
     "text": [
      "Ali\n",
      "no thing find\n"
     ]
    }
   ],
   "source": [
    "#setdefault()   similar to get() method\n",
    "\n",
    "users : dict = {0: 'Dani', 1: 'Ali', 2: 'Talha'}\n",
    "print(users.setdefault(1,'hello'))\n",
    "print(users.setdefault(4,\"no thing find\"))"
   ]
  },
  {
   "cell_type": "code",
   "execution_count": 28,
   "id": "2cd04c18",
   "metadata": {},
   "outputs": [
    {
     "name": "stdout",
     "output_type": "stream",
     "text": [
      "{}\n"
     ]
    }
   ],
   "source": [
    "#clear()\n",
    "\n",
    "\n",
    "users : dict = {0: 'Dani', 1: 'Ali', 2: 'Talha'}   #type hinting\n",
    "user = ['Dani','Ali','Talha']   #standard assignment \n",
    "users.clear()\n",
    "print(users)"
   ]
  },
  {
   "cell_type": "code",
   "execution_count": 42,
   "id": "cafb6a1a",
   "metadata": {},
   "outputs": [
    {
     "name": "stdout",
     "output_type": "stream",
     "text": [
      "{'Mario': None, 'Ali': None, 'Talha': None}\n",
      "{'Mario': None, 'Ali': None, 'Talha': None}\n"
     ]
    }
   ],
   "source": [
    "#fromkey()\n",
    "\n",
    "people : list[str] = ['Mario','Ali','Talha']\n",
    "users : dict = dict.fromkeys(people)\n",
    "user_value =  ['Mario','Ali','Talha']\n",
    "users1 : dict = {name: \"Unknown\" for name in people}\n",
    "print(users)\n",
    "print(users)"
   ]
  },
  {
   "cell_type": "code",
   "execution_count": 45,
   "id": "ff053d0a",
   "metadata": {},
   "outputs": [
    {
     "data": {
      "text/plain": [
       "{0: 'Dani', 1: 'Ali', 2: 'Bob', 3: \"James's sister\"}"
      ]
     },
     "execution_count": 45,
     "metadata": {},
     "output_type": "execute_result"
    }
   ],
   "source": [
    "#update\n",
    "users : dict = {0: 'Dani', 1: 'Ali', 2: 'Talha'}\n",
    "\n",
    "users.update({2: \"Bob\",3:\"James\\'s sister\"})\n",
    "users\n",
    "    \n"
   ]
  }
 ],
 "metadata": {
  "kernelspec": {
   "display_name": "Python 3 (ipykernel)",
   "language": "python",
   "name": "python3"
  },
  "language_info": {
   "codemirror_mode": {
    "name": "ipython",
    "version": 3
   },
   "file_extension": ".py",
   "mimetype": "text/x-python",
   "name": "python",
   "nbconvert_exporter": "python",
   "pygments_lexer": "ipython3",
   "version": "3.11.4"
  }
 },
 "nbformat": 4,
 "nbformat_minor": 5
}

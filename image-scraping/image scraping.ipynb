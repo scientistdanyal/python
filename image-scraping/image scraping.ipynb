{
 "cells": [
  {
   "cell_type": "code",
   "execution_count": 35,
   "id": "3bc96b43",
   "metadata": {},
   "outputs": [
    {
     "name": "stdout",
     "output_type": "stream",
     "text": [
      "Requirement already satisfied: requests in c:\\users\\numl-\\anaconda3\\lib\\site-packages (2.31.0)\n",
      "Requirement already satisfied: charset-normalizer<4,>=2 in c:\\users\\numl-\\anaconda3\\lib\\site-packages (from requests) (2.0.4)\n",
      "Requirement already satisfied: idna<4,>=2.5 in c:\\users\\numl-\\anaconda3\\lib\\site-packages (from requests) (3.4)\n",
      "Requirement already satisfied: urllib3<3,>=1.21.1 in c:\\users\\numl-\\anaconda3\\lib\\site-packages (from requests) (1.26.16)\n",
      "Requirement already satisfied: certifi>=2017.4.17 in c:\\users\\numl-\\anaconda3\\lib\\site-packages (from requests) (2023.7.22)\n",
      "Collecting bs4\n",
      "  Downloading bs4-0.0.1.tar.gz (1.1 kB)\n",
      "  Preparing metadata (setup.py): started\n",
      "  Preparing metadata (setup.py): finished with status 'done'\n",
      "Requirement already satisfied: beautifulsoup4 in c:\\users\\numl-\\anaconda3\\lib\\site-packages (from bs4) (4.12.2)\n",
      "Requirement already satisfied: soupsieve>1.2 in c:\\users\\numl-\\anaconda3\\lib\\site-packages (from beautifulsoup4->bs4) (2.4)\n",
      "Building wheels for collected packages: bs4\n",
      "  Building wheel for bs4 (setup.py): started\n",
      "  Building wheel for bs4 (setup.py): finished with status 'done'\n",
      "  Created wheel for bs4: filename=bs4-0.0.1-py3-none-any.whl size=1264 sha256=7118fbbf591f1abe1fc3f3d30be688adc44a2a629b2f12263726046463327bb3\n",
      "  Stored in directory: c:\\users\\numl-\\appdata\\local\\pip\\cache\\wheels\\d4\\c8\\5b\\b5be9c20e5e4503d04a6eac8a3cd5c2393505c29f02bea0960\n",
      "Successfully built bs4\n",
      "Installing collected packages: bs4\n",
      "Successfully installed bs4-0.0.1\n"
     ]
    }
   ],
   "source": [
    "!pip install requests\n",
    "!pip install bs4\n"
   ]
  },
  {
   "cell_type": "code",
   "execution_count": 43,
   "id": "4b13d149",
   "metadata": {},
   "outputs": [
    {
     "name": "stdout",
     "output_type": "stream",
     "text": [
      "What are you looking for? data science\n",
      "Fetching from url = https://www.google.com/search?site=&tbm=isch&source=hp&biw=1873&bih=990&q=data science\n",
      "https://encrypted-tbn0.gstatic.com/images?q=tbn:ANd9GcQbqEHfoaojvuSN3RHNqWT73TZp3dWuGMgR0VdoAqN4x4x4Mtstgr0dUgbllw&s\n"
     ]
    }
   ],
   "source": [
    "import bs4\n",
    "import requests\n",
    "\n",
    "GOOGLE_IMAGE = 'https://www.google.com/search?site=&tbm=isch&source=hp&biw=1873&bih=990&'\n",
    "\n",
    "\n",
    "def extract_first_image_url(data):\n",
    "    URL_input = GOOGLE_IMAGE + 'q=' + data\n",
    "    print('Fetching from url =', URL_input)\n",
    "    URLdata = requests.get(URL_input)\n",
    "    soup = bs4.BeautifulSoup(URLdata.text, \"html.parser\")\n",
    "    ImgTags = soup.find_all('img')\n",
    "\n",
    "    for link in ImgTags:\n",
    "        try:\n",
    "            image_url = link.get('src')\n",
    "            if image_url and image_url.startswith('http'):\n",
    "                return image_url\n",
    "                break\n",
    "        except:\n",
    "            pass\n",
    "\n",
    "\n",
    "data = input('What are you looking for? ')\n",
    "print(extract_first_image_url(data))\n"
   ]
  },
  {
   "cell_type": "code",
   "execution_count": null,
   "id": "6d501755",
   "metadata": {},
   "outputs": [],
   "source": []
  }
 ],
 "metadata": {
  "kernelspec": {
   "display_name": "Python 3 (ipykernel)",
   "language": "python",
   "name": "python3"
  },
  "language_info": {
   "codemirror_mode": {
    "name": "ipython",
    "version": 3
   },
   "file_extension": ".py",
   "mimetype": "text/x-python",
   "name": "python",
   "nbconvert_exporter": "python",
   "pygments_lexer": "ipython3",
   "version": "3.11.4"
  }
 },
 "nbformat": 4,
 "nbformat_minor": 5
}

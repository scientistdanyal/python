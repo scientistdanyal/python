{
 "cells": [
  {
   "cell_type": "code",
   "execution_count": 16,
   "id": "fe7b0a29-4dd0-44e5-8610-5e099acd649f",
   "metadata": {},
   "outputs": [
    {
     "ename": "NameError",
     "evalue": "name 'curren_node' is not defined",
     "output_type": "error",
     "traceback": [
      "\u001b[0;31m---------------------------------------------------------------------------\u001b[0m",
      "\u001b[0;31mNameError\u001b[0m                                 Traceback (most recent call last)",
      "Cell \u001b[0;32mIn[16], line 43\u001b[0m\n\u001b[1;32m     41\u001b[0m linkl\u001b[38;5;241m.\u001b[39minser_at_beginning(\u001b[38;5;241m89\u001b[39m)\n\u001b[1;32m     42\u001b[0m linkl\u001b[38;5;241m.\u001b[39minsert_at_end(\u001b[38;5;241m78\u001b[39m)\n\u001b[0;32m---> 43\u001b[0m \u001b[43mlinkl\u001b[49m\u001b[38;5;241;43m.\u001b[39;49m\u001b[43mprint\u001b[49m\u001b[43m(\u001b[49m\u001b[43m)\u001b[49m\n",
      "Cell \u001b[0;32mIn[16], line 24\u001b[0m, in \u001b[0;36mlinked_list.print\u001b[0;34m(self)\u001b[0m\n\u001b[1;32m     22\u001b[0m llstr \u001b[38;5;241m=\u001b[39m \u001b[38;5;124m'\u001b[39m\u001b[38;5;124m'\u001b[39m\n\u001b[1;32m     23\u001b[0m \u001b[38;5;28;01mwhile\u001b[39;00m current_node:\n\u001b[0;32m---> 24\u001b[0m     llstr \u001b[38;5;241m+\u001b[39m\u001b[38;5;241m=\u001b[39m \u001b[38;5;28mstr\u001b[39m(\u001b[43mcurren_node\u001b[49m\u001b[38;5;241m.\u001b[39mdata) \u001b[38;5;241m+\u001b[39m \u001b[38;5;124m'\u001b[39m\u001b[38;5;124m---->\u001b[39m\u001b[38;5;124m'\u001b[39m\n\u001b[1;32m     25\u001b[0m     current_node \u001b[38;5;241m=\u001b[39m current_node\u001b[38;5;241m.\u001b[39mnext\n\u001b[1;32m     26\u001b[0m \u001b[38;5;28mprint\u001b[39m(llstr)\n",
      "\u001b[0;31mNameError\u001b[0m: name 'curren_node' is not defined"
     ]
    }
   ],
   "source": [
    "class Node:\n",
    "    def __init__(self, data = None , next = None):\n",
    "        self.data = data\n",
    "        self.next = next\n",
    "\n",
    "\n",
    "class linked_list:\n",
    "\n",
    "\n",
    "    def __init__(self):\n",
    "        self.head = None\n",
    "\n",
    "\n",
    "    def inser_at_beginning(self, data):\n",
    "        node = Node(data, self.head)\n",
    "        self.head = node\n",
    "    def print(self):    \n",
    "        if self.head is None:\n",
    "            print('linked list is empty')\n",
    "            return \n",
    "        current_node = self.head\n",
    "        llstr = ''\n",
    "        while current_node:\n",
    "            llstr += str(current_node.data) + '---->'\n",
    "            current_node = current_node.next\n",
    "        print(llstr)\n",
    "    def insert_at_end(self, data):\n",
    "        if self.head is None:\n",
    "            self.head = Node(data, None)\n",
    "            return \n",
    "        current_node = self.head\n",
    "        while current_node.next:\n",
    "            current_node = current_node.next \n",
    "\n",
    "        current_node.next = Node(data, None)\n",
    "\n",
    "\n",
    "if __name__=='__main__':\n",
    "    linkl = linked_list()\n",
    "    linkl.inser_at_beginning(5)\n",
    "    linkl.inser_at_beginning(89)\n",
    "    linkl.insert_at_end(78)\n",
    "    linkl.print()\n",
    "    \n",
    "\n"
   ]
  },
  {
   "cell_type": "code",
   "execution_count": null,
   "id": "159110a9-0bcd-42f0-b860-e39d540608e6",
   "metadata": {},
   "outputs": [],
   "source": []
  }
 ],
 "metadata": {
  "kernelspec": {
   "display_name": "Python 3 (ipykernel)",
   "language": "python",
   "name": "python3"
  },
  "language_info": {
   "codemirror_mode": {
    "name": "ipython",
    "version": 3
   },
   "file_extension": ".py",
   "mimetype": "text/x-python",
   "name": "python",
   "nbconvert_exporter": "python",
   "pygments_lexer": "ipython3",
   "version": "3.10.6"
  }
 },
 "nbformat": 4,
 "nbformat_minor": 5
}

{
 "cells": [
  {
   "attachments": {},
   "cell_type": "markdown",
   "metadata": {},
   "source": [
    "### Classes\n",
    "1- Class : Template for creating objects,\n",
    "All objects created from same class will have same attributes\n",
    "2- Objects: Is Instance of a Class\n",
    "3- Instentiate: Process of Creating Instance\n",
    "4- Method: A function Defined in Class\n",
    "5- Attribute: A variable bound to an instance of a class "
   ]
  },
  {
   "cell_type": "code",
   "execution_count": null,
   "metadata": {},
   "outputs": [],
   "source": [
    "class map():\n",
    "    material = 'house'\n",
    "    print(f'I build {material}')\n",
    "    def add(self):\n",
    "        x = 2 + 2\n",
    "        return x\n",
    "\n",
    "\n",
    "house = map()\n",
    "\n",
    "print(house.material) #house\n",
    "print(house.add())  #4"
   ]
  },
  {
   "attachments": {},
   "cell_type": "markdown",
   "metadata": {},
   "source": [
    "### Initialization Function \n"
   ]
  },
  {
   "cell_type": "code",
   "execution_count": 1,
   "metadata": {},
   "outputs": [
    {
     "name": "stdout",
     "output_type": "stream",
     "text": [
      "I build New Material\n",
      "I build New Material1\n",
      "I build New Material2\n",
      "I build New Material3\n"
     ]
    }
   ],
   "source": [
    "class map():\n",
    "\n",
    "\n",
    "    def __init__(self,material) :\n",
    "        self.material = material\n",
    "        print(f'I build {material}')\n",
    "    def add(self):\n",
    "        x = 2 + 2    \n",
    "        return x\n",
    "\n",
    "house1 = map('New Material')\n",
    "house2 = map('New Material1')\n",
    "house2 = map('New Material2')\n",
    "house3 = map('New Material3')\n",
    "\n",
    "\n"
   ]
  },
  {
   "attachments": {},
   "cell_type": "markdown",
   "metadata": {},
   "source": [
    "### Class Exercise"
   ]
  },
  {
   "cell_type": "code",
   "execution_count": 9,
   "metadata": {},
   "outputs": [
    {
     "name": "stdout",
     "output_type": "stream",
     "text": [
      "Kenwood\n",
      "False\n",
      "True\n",
      "True\n"
     ]
    }
   ],
   "source": [
    "class kattle():\n",
    "\n",
    "\n",
    "    def __init__(self,make,price):\n",
    "        self.make= make\n",
    "        self.price = price\n",
    "        self.on = False\n",
    "\n",
    "\n",
    "    def switch(self):\n",
    "        self.on = True\n",
    "\n",
    "kenwood = kattle('Kenwood',10)\n",
    "\n",
    "hamilton = kattle('hamilton',48)\n",
    "\n",
    "print(kenwood.make) #kenwood\n",
    "\n",
    "print(kenwood.on)\n",
    "\n",
    "kenwood.switch()\n",
    "print(kenwood.on)\n"
   ]
  },
  {
   "cell_type": "code",
   "execution_count": 12,
   "metadata": {},
   "outputs": [
    {
     "name": "stdout",
     "output_type": "stream",
     "text": [
      "Toyota\n",
      "Vigo\n",
      "2023\n",
      "Engine started.\n",
      "Engine is already running.\n",
      "Engine stopped.\n",
      "Engine is already stopped.\n"
     ]
    }
   ],
   "source": [
    "class Car:\n",
    "\n",
    "\n",
    "    def __init__(self,make,model,year):\n",
    "        self.make = make\n",
    "        self.model = model\n",
    "        self.year = year\n",
    "        self.engine_on = False\n",
    "\n",
    "    def start_engine(self):\n",
    "        if not self.engine_on:\n",
    "            self.engine_on = True\n",
    "            print(\"Engine started.\")\n",
    "        else:\n",
    "              print('Engine is already running.')\n",
    "\n",
    "    def stop_engine(self):\n",
    "        if self.engine_on:\n",
    "            self.engine_on = False\n",
    "            print('Engine stopped.')\n",
    "        else:\n",
    "            print('Engine is already stopped.') \n",
    "\n",
    "\n",
    "\n",
    "\n",
    "my_car =Car('Toyota','Vigo','2023')\n",
    "print(my_car.make)\n",
    "\n",
    "print(my_car.model)\n",
    "\n",
    "print(my_car.year)\n",
    "\n",
    "\n",
    "my_car.start_engine() #engine started\n",
    "my_car.start_engine() #engine is already running\n",
    "\n",
    "\n",
    "my_car.stop_engine()  #engine stopped.\n",
    "\n",
    "my_car.stop_engine()  #engine is already stopped.\n"
   ]
  },
  {
   "cell_type": "code",
   "execution_count": null,
   "metadata": {},
   "outputs": [],
   "source": [
    "\n"
   ]
  }
 ],
 "metadata": {
  "kernelspec": {
   "display_name": "Python 3",
   "language": "python",
   "name": "python3"
  },
  "language_info": {
   "codemirror_mode": {
    "name": "ipython",
    "version": 3
   },
   "file_extension": ".py",
   "mimetype": "text/x-python",
   "name": "python",
   "nbconvert_exporter": "python",
   "pygments_lexer": "ipython3",
   "version": "3.10.8"
  },
  "orig_nbformat": 4
 },
 "nbformat": 4,
 "nbformat_minor": 2
}

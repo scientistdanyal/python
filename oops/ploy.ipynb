{
 "cells": [
  {
   "cell_type": "code",
   "execution_count": 6,
   "metadata": {},
   "outputs": [
    {
     "name": "stdout",
     "output_type": "stream",
     "text": [
      "Toyota\n",
      "Rivo\n",
      "Run on road\n",
      "Nissan\n",
      "Over Night\n",
      "Sail over sea\n"
     ]
    }
   ],
   "source": [
    "class Vechile():\n",
    "\n",
    "    def __init__(self,brand,  model) :\n",
    "        self.brand = brand\n",
    "        self.model = model\n",
    "\n",
    "    def move(self):\n",
    "        print('Run on road')    \n",
    "\n",
    "\n",
    "\n",
    "class Car(Vechile):\n",
    "   pass\n",
    "\n",
    "\n",
    "class Boat():\n",
    "\n",
    "    def __init__(self,brand,model):\n",
    "        self.brand = brand \n",
    "        self.model = model\n",
    "\n",
    "\n",
    "    def move(self):\n",
    "        print('Sail over sea')    \n",
    "\n",
    "car1 = Car('Toyota','Rivo')\n",
    "\n",
    "boat1 = Boat('Nissan','Over Night')\n",
    "\n",
    "for x in (car1,boat1):\n",
    "    print(x.brand)\n",
    "    print(x.model)\n",
    "    x.move()"
   ]
  },
  {
   "cell_type": "code",
   "execution_count": 7,
   "metadata": {},
   "outputs": [
    {
     "name": "stdout",
     "output_type": "stream",
     "text": [
      "[1, 4, 9, 16, 25, 25, 36, 36]\n"
     ]
    }
   ],
   "source": [
    "square = lambda x : x**2\n",
    "\n",
    "\n",
    "numbers = [1,2,3,4,5,5,6,6]\n",
    "\n",
    "newlist = list(map(square, numbers))\n",
    "print(newlist)"
   ]
  },
  {
   "cell_type": "code",
   "execution_count": 8,
   "metadata": {},
   "outputs": [
    {
     "ename": "TypeError",
     "evalue": "'int' object is not iterable",
     "output_type": "error",
     "traceback": [
      "\u001b[0;31m---------------------------------------------------------------------------\u001b[0m",
      "\u001b[0;31mTypeError\u001b[0m                                 Traceback (most recent call last)",
      "Cell \u001b[0;32mIn[8], line 3\u001b[0m\n\u001b[1;32m      1\u001b[0m fib \u001b[39m=\u001b[39m \u001b[39mlambda\u001b[39;00m x: (fib(x)\u001b[39m+\u001b[39m fib(x\u001b[39m-\u001b[39m\u001b[39m2\u001b[39m))\n\u001b[1;32m      2\u001b[0m \u001b[39mfor\u001b[39;00m i \u001b[39min\u001b[39;00m \u001b[39mrange\u001b[39m(\u001b[39m10\u001b[39m):\n\u001b[0;32m----> 3\u001b[0m     \u001b[39mprint\u001b[39m(\u001b[39mmap\u001b[39;49m(fib,i))\n",
      "\u001b[0;31mTypeError\u001b[0m: 'int' object is not iterable"
     ]
    }
   ],
   "source": []
  }
 ],
 "metadata": {
  "kernelspec": {
   "display_name": "Python 3",
   "language": "python",
   "name": "python3"
  },
  "language_info": {
   "codemirror_mode": {
    "name": "ipython",
    "version": 3
   },
   "file_extension": ".py",
   "mimetype": "text/x-python",
   "name": "python",
   "nbconvert_exporter": "python",
   "pygments_lexer": "ipython3",
   "version": "3.10.6"
  },
  "orig_nbformat": 4
 },
 "nbformat": 4,
 "nbformat_minor": 2
}

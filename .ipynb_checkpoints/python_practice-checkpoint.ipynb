{
 "cells": [
  {
   "cell_type": "code",
   "execution_count": 2,
   "id": "4af8ed6e-c8e7-459c-a9f7-834c71e925b1",
   "metadata": {},
   "outputs": [
    {
     "name": "stdout",
     "output_type": "stream",
     "text": [
      "2.143\n"
     ]
    }
   ],
   "source": [
    "a = 45\n",
    "b = 21\n",
    "n = a / b\n",
    "r = round(n,3)\n",
    "print(r)\n"
   ]
  },
  {
   "cell_type": "markdown",
   "id": "2a19c61e-33bd-47f5-bdf9-ab7b7a235427",
   "metadata": {},
   "source": [
    "fabonacci number "
   ]
  },
  {
   "cell_type": "code",
   "execution_count": 6,
   "id": "a83da7ad-3eb4-4087-961d-07df5633e040",
   "metadata": {},
   "outputs": [
    {
     "name": "stdout",
     "output_type": "stream",
     "text": [
      "0\n",
      "1\n",
      "1\n",
      "2\n",
      "3\n",
      "5\n",
      "8\n",
      "13\n"
     ]
    }
   ],
   "source": [
    "a,b = 0, 1\n",
    "\n",
    "while a < 20:\n",
    "    print(a)\n",
    "    a,b=b,a+b"
   ]
  },
  {
   "cell_type": "code",
   "execution_count": 15,
   "id": "d1d874fc-e6a1-4a31-adfb-bf5450ed016f",
   "metadata": {},
   "outputs": [
    {
     "name": "stdout",
     "output_type": "stream",
     "text": [
      "Bad request\n",
      "something wrong\n",
      "Not found\n"
     ]
    }
   ],
   "source": [
    "def http_error(status):\n",
    "    match status :\n",
    "         case 400:\n",
    "             return 'Bad request'\n",
    "         case 404 | 403 | 402 :\n",
    "              return 'Not found'\n",
    "         case _:\n",
    "              return 'something wrong'\n",
    "\n",
    "print(http_error(400))\n",
    "print(http_error(1))\n",
    "print(http_error(403))\n"
   ]
  },
  {
   "cell_type": "code",
   "execution_count": 18,
   "id": "5bccc358-b71a-4dde-80f6-602a89c037d5",
   "metadata": {},
   "outputs": [
    {
     "data": {
      "text/plain": [
       "<__main__.Point at 0x7f32f3e05ae0>"
      ]
     },
     "execution_count": 18,
     "metadata": {},
     "output_type": "execute_result"
    }
   ],
   "source": [
    "class Point:\n",
    "    def __init__(self, x, y):\n",
    "        self.x = x\n",
    "        self.y = y\n",
    "\n",
    "def where_is(point):\n",
    "    match point:\n",
    "        case Point(x=0, y=0):\n",
    "            print(\"Origin\")\n",
    "        case Point(x=0, y=y):\n",
    "            print(f\"Y={y}\")\n",
    "        case Point(x=x, y=0):\n",
    "            print(f\"X={x}\")\n",
    "        case Point():\n",
    "            print(\"Somewhere else\")\n",
    "        case _:\n",
    "            print(\"Not a point\")\n",
    "\n",
    "\n",
    "\n",
    "\n",
    "Point(1, 2)\n",
    "Point(1, 43)\n",
    "Point(1, -34)\n",
    "Point(23,1)"
   ]
  },
  {
   "cell_type": "code",
   "execution_count": null,
   "id": "703851b0-a5a7-427d-8a1f-7007e076762e",
   "metadata": {},
   "outputs": [],
   "source": [
    "def ask_ok(prompt, retries=4, reminder='Please try again!'):\n",
    "    while True:\n",
    "        ok = input(prompt)\n",
    "        if ok in ('y', 'ye', 'yes'):\n",
    "            return True\n",
    "        if ok in ('n', 'no', 'nop', 'nope'):\n",
    "            return False\n",
    "        retries = retries - 1\n",
    "        if retries < 0:\n",
    "            raise ValueError('invalid user response')\n",
    "        print(reminder)\n",
    "\n",
    "prompt = 'enter your response'\n",
    "ask_ok(prompt, retries=4, reminder='Please try again!')\n",
    "\n"
   ]
  },
  {
   "cell_type": "code",
   "execution_count": null,
   "id": "eccf32ec-9e4b-46f7-bc37-6d648eaf4737",
   "metadata": {},
   "outputs": [],
   "source": [
    "def ask_me(prompt='enter your response', retries = 4, remainder = 'please enter valid response'):\n",
    "    while True:\n",
    "        ask = input(prompt)\n",
    "        if ask in ['ok','k']:\n",
    "            return True\n",
    "         retries = retries - 1   \n",
    "        if retries < 0 :\n",
    "            raise ValueError('invild repsonse')\n",
    "        print(remainder) \n",
    "        \n",
    "        \n",
    "ask_me()"
   ]
  },
  {
   "cell_type": "raw",
   "id": "e50aea5f-1bd6-4d73-a806-792880d9f7f4",
   "metadata": {},
   "source": []
  },
  {
   "cell_type": "code",
   "execution_count": 2,
   "id": "2d4a6078-a3f3-4215-8946-276422ddd804",
   "metadata": {
    "scrolled": true
   },
   "outputs": [
    {
     "name": "stdout",
     "output_type": "stream",
     "text": [
      "c ['cat']\n",
      "d ['dog', 'duck']\n",
      "e ['elephant']\n"
     ]
    }
   ],
   "source": [
    "from itertools import groupby\n",
    "\n",
    "animals = ['cat', 'dog', 'duck','elephant']\n",
    "\n",
    "animals.sort()\n",
    "\n",
    "grouped_animals = groupby(animals, key = lambda x : x[0])\n",
    "for key, group in grouped_animals:\n",
    "    print(key, list(group))\n",
    "\n"
   ]
  },
  {
   "cell_type": "code",
   "execution_count": 3,
   "id": "b4f22ab1-90cb-470b-91fc-422769106168",
   "metadata": {},
   "outputs": [
    {
     "name": "stdout",
     "output_type": "stream",
     "text": [
      "var = 'hello world'\n"
     ]
    }
   ],
   "source": [
    "var = 'hello world'\n",
    "print(f'{var = }')"
   ]
  },
  {
   "cell_type": "code",
   "execution_count": 8,
   "id": "1d1c8057-b111-4dff-873c-6a3a329341b5",
   "metadata": {},
   "outputs": [
    {
     "name": "stdout",
     "output_type": "stream",
     "text": [
      "unkown\n"
     ]
    }
   ],
   "source": [
    "var = 'python' ,45\n",
    "\n",
    "match var:\n",
    "   case str():\n",
    "       print('String')\n",
    "   case int():\n",
    "       print('Interger')\n",
    "   case bool():\n",
    "       print('boolean')\n",
    "   case list():\n",
    "       print('list')\n",
    "   case _:\n",
    "       print('unkown')\n",
    "       \n",
    "       \n"
   ]
  }
 ],
 "metadata": {
  "kernelspec": {
   "display_name": "Python 3 (ipykernel)",
   "language": "python",
   "name": "python3"
  },
  "language_info": {
   "codemirror_mode": {
    "name": "ipython",
    "version": 3
   },
   "file_extension": ".py",
   "mimetype": "text/x-python",
   "name": "python",
   "nbconvert_exporter": "python",
   "pygments_lexer": "ipython3",
   "version": "3.10.6"
  }
 },
 "nbformat": 4,
 "nbformat_minor": 5
}
